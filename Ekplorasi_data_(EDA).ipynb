{
  "cells": [
    {
      "cell_type": "markdown",
      "source": [
        "#mengumpulkan data\n",
        "menarik data iris dari postgresql kemudian dibaca dengan pyhton dijadikan dataframe\n",
        "\n",
        "jalankan di jupyter notebook di local\n",
        "\n",
        "Nama : Rahma Nurhaliza\n",
        "NIM : 210411100176"
      ],
      "metadata": {
        "id": "cUFEro1nbI_9"
      },
      "id": "cUFEro1nbI_9"
    },
    {
      "cell_type": "code",
      "execution_count": null,
      "id": "e7be9868",
      "metadata": {
        "id": "e7be9868"
      },
      "outputs": [],
      "source": [
        "import psycopg2\n",
        "import pandas as pd\n",
        "# Connection parameters, yours will be different\n",
        "param_dic = {\n",
        "    \"host\"      : \"localhost\",\n",
        "    \"database\"  : \"iris_dataset\",\n",
        "    \"user\"      : \"postgres\",\n",
        "    \"password\"  : \"123bisa\"\n",
        "}\n",
        "def connect(params_dic):\n",
        "    \"\"\" Connect to the PostgreSQL database server \"\"\"\n",
        "    conn = None\n",
        "    try:\n",
        "        # connect to the PostgreSQL server\n",
        "        print('Connecting to the PostgreSQL database...')\n",
        "        conn = psycopg2.connect(**params_dic)\n",
        "    except (Exception, psycopg2.DatabaseError) as error:\n",
        "        print(error)\n",
        "        sys.exit(1) \n",
        "    print(\"Connection successful\")\n",
        "    return conn"
      ]
    },
    {
      "cell_type": "code",
      "execution_count": null,
      "id": "50d83c89",
      "metadata": {
        "id": "50d83c89"
      },
      "outputs": [],
      "source": [
        "def postgresql_to_dataframe(conn, select_query, column_names):\n",
        "    \"\"\"\n",
        "    Tranform a SELECT query into a pandas dataframe\n",
        "    \"\"\"\n",
        "    cursor = conn.cursor()\n",
        "    try:\n",
        "        cursor.execute(select_query)\n",
        "    except (Exception, psycopg2.DatabaseError) as error:\n",
        "        print(\"Error: %s\" % error)\n",
        "        cursor.close()\n",
        "        return 1\n",
        "    \n",
        "    # Naturally we get a list of tupples\n",
        "    tupples = cursor.fetchall()\n",
        "    cursor.close()\n",
        "    \n",
        "    # We just need to turn it into a pandas dataframe\n",
        "    df = pd.DataFrame(tupples, columns=column_names)\n",
        "    return df"
      ]
    },
    {
      "cell_type": "code",
      "execution_count": null,
      "id": "c9942a2c",
      "metadata": {
        "id": "c9942a2c",
        "outputId": "62168f26-00e4-405c-ec3d-267b0e7347dc"
      },
      "outputs": [
        {
          "name": "stdout",
          "output_type": "stream",
          "text": [
            "Connecting to the PostgreSQL database...\n",
            "Connection successful\n"
          ]
        },
        {
          "data": {
            "text/html": [
              "<div>\n",
              "<style scoped>\n",
              "    .dataframe tbody tr th:only-of-type {\n",
              "        vertical-align: middle;\n",
              "    }\n",
              "\n",
              "    .dataframe tbody tr th {\n",
              "        vertical-align: top;\n",
              "    }\n",
              "\n",
              "    .dataframe thead th {\n",
              "        text-align: right;\n",
              "    }\n",
              "</style>\n",
              "<table border=\"1\" class=\"dataframe\">\n",
              "  <thead>\n",
              "    <tr style=\"text-align: right;\">\n",
              "      <th></th>\n",
              "      <th>sepal_length</th>\n",
              "      <th>sepal_width</th>\n",
              "      <th>petal_length</th>\n",
              "      <th>petal_width</th>\n",
              "      <th>variety</th>\n",
              "    </tr>\n",
              "  </thead>\n",
              "  <tbody>\n",
              "    <tr>\n",
              "      <th>0</th>\n",
              "      <td>5.1</td>\n",
              "      <td>3.5</td>\n",
              "      <td>1.4</td>\n",
              "      <td>0.2</td>\n",
              "      <td>Setosa</td>\n",
              "    </tr>\n",
              "    <tr>\n",
              "      <th>1</th>\n",
              "      <td>4.9</td>\n",
              "      <td>3.0</td>\n",
              "      <td>1.4</td>\n",
              "      <td>0.2</td>\n",
              "      <td>Setosa</td>\n",
              "    </tr>\n",
              "    <tr>\n",
              "      <th>2</th>\n",
              "      <td>4.7</td>\n",
              "      <td>3.2</td>\n",
              "      <td>1.3</td>\n",
              "      <td>0.2</td>\n",
              "      <td>Setosa</td>\n",
              "    </tr>\n",
              "    <tr>\n",
              "      <th>3</th>\n",
              "      <td>4.6</td>\n",
              "      <td>3.1</td>\n",
              "      <td>1.5</td>\n",
              "      <td>0.2</td>\n",
              "      <td>Setosa</td>\n",
              "    </tr>\n",
              "    <tr>\n",
              "      <th>4</th>\n",
              "      <td>5.0</td>\n",
              "      <td>3.6</td>\n",
              "      <td>1.4</td>\n",
              "      <td>0.2</td>\n",
              "      <td>Setosa</td>\n",
              "    </tr>\n",
              "  </tbody>\n",
              "</table>\n",
              "</div>"
            ],
            "text/plain": [
              "   sepal_length  sepal_width  petal_length  petal_width variety\n",
              "0           5.1          3.5           1.4          0.2  Setosa\n",
              "1           4.9          3.0           1.4          0.2  Setosa\n",
              "2           4.7          3.2           1.3          0.2  Setosa\n",
              "3           4.6          3.1           1.5          0.2  Setosa\n",
              "4           5.0          3.6           1.4          0.2  Setosa"
            ]
          },
          "execution_count": 6,
          "metadata": {},
          "output_type": "execute_result"
        }
      ],
      "source": [
        "# Connect to the database\n",
        "conn = connect(param_dic)\n",
        "\n",
        "column_names = [\"sepal_length\", \"sepal_width\", \"petal_length\", \"petal_width\",\"variety\"]\n",
        "# Execute the \"SELECT *\" query\n",
        "df = postgresql_to_dataframe(conn, \"select * from iris_data\", column_names)\n",
        "df.head()"
      ]
    }
  ],
  "metadata": {
    "kernelspec": {
      "display_name": "Python 3 (ipykernel)",
      "language": "python",
      "name": "python3"
    },
    "language_info": {
      "codemirror_mode": {
        "name": "ipython",
        "version": 3
      },
      "file_extension": ".py",
      "mimetype": "text/x-python",
      "name": "python",
      "nbconvert_exporter": "python",
      "pygments_lexer": "ipython3",
      "version": "3.11.2"
    },
    "colab": {
      "provenance": []
    }
  },
  "nbformat": 4,
  "nbformat_minor": 5
}